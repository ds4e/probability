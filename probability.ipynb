{
 "cells": [
  {
   "cell_type": "markdown",
   "id": "b9f34373-7724-4261-a1a1-d50fda1eab1f",
   "metadata": {
    "slideshow": {
     "slide_type": "slide"
    }
   },
   "source": [
    "# Probability\n",
    "### `! git clone https://www.github.com/ds4e/probability`"
   ]
  },
  {
   "cell_type": "code",
   "execution_count": 5,
   "id": "03ca7144",
   "metadata": {
    "slideshow": {
     "slide_type": "subslide"
    }
   },
   "outputs": [],
   "source": [
    "import numpy as np\n",
    "import pandas as pd\n",
    "import matplotlib.pyplot as plt\n",
    "import seaborn as sns"
   ]
  },
  {
   "cell_type": "markdown",
   "id": "98ef2709-651c-4e2a-9cd2-196c7ff931c1",
   "metadata": {
    "slideshow": {
     "slide_type": "subslide"
    }
   },
   "source": [
    "## Probability\n",
    "- So we have some skills to get data and put into a workable form (data wrangling, EDA, visualization)\n",
    "- We have some basic but powerful tools to analyze data and create predictive models ($k$-NN, $k$-MC, linear models, decision trees)\n",
    "- We want to ask questions like, How much uncertainty does there appear to be in our predictions? How well is this model likely to perform on new data? Does this model work well in any absolute sense?\n",
    "- To proceed, we need to add some more ideas about probability and randomness, in order to communicate with each other and understand tools\n",
    "- These two lectures (probability and bootstrapping) are probably the most difficult in the class, but the payoff is absolutely worth it"
   ]
  },
  {
   "cell_type": "markdown",
   "id": "821aac76-aff4-484d-9da4-159c814b813d",
   "metadata": {
    "slideshow": {
     "slide_type": "subslide"
    }
   },
   "source": [
    "## A Fair Die\n",
    "- Let's consider something very simple: Rolling a \"fair\" 6-sided die where each side is equally likely.\n",
    "- There are six sides with pips $\\cdot$, $2\\cdot$, $3\\cdot$, $4\\cdot$, $5\\cdot$, and $6 \\cdot$\n",
    "- Besides the sides themselves, we can define outcomes like *odd*, $\\left\\lbrace 1\\cdot, 3\\cdot, 5\\cdot \\right\\rbrace$, and *even*, $\\left\\lbrace 2\\cdot, 4\\cdot, 6\\cdot \\right\\rbrace$.\n",
    "- If each side is equally likely, the probability we observe any given side should be 1/6; this allows us to work out the likelihood of observing any particular collection of sides, like even or odd.\n",
    "- What are all these ideas, in an abstract sense?"
   ]
  },
  {
   "cell_type": "markdown",
   "id": "7af47cf4-ee4c-4ded-9b7a-d2e0662aac4f",
   "metadata": {
    "slideshow": {
     "slide_type": "subslide"
    }
   },
   "source": [
    "## A Fair Die\n",
    "- There are six sides with pips $\\cdot$, $2\\cdot$, $3\\cdot$, $4\\cdot$, $5\\cdot$, and $6\\cdot$. **This is called the *sample space* and each possibility in it is called an outcome**.\n",
    "- Besides the sides themselves, we can define outcomes like *odd*, $\\left\\lbrace 1\\cdot, 3\\cdot, 5\\cdot \\right\\rbrace$, and *even*, $\\left\\lbrace 2\\cdot, 4\\cdot, 6\\cdot \\right\\rbrace$. **This is called the set of *events*: all of the \"relevant\" sets of outcomes that might occur.**\n",
    "- If each side is equally likely, the probability we observe any given side should be 1/6; this allows us to work out the likelihood of observing any particular collection of sides, like even or odd. **This is called a *probability mass function*, associating every set of events with a number between 0 and 1.**"
   ]
  },
  {
   "cell_type": "markdown",
   "id": "16032d51-a757-4f8f-9c2b-d80019fa383c",
   "metadata": {
    "slideshow": {
     "slide_type": "subslide"
    }
   },
   "source": [
    "## Probabilities\n",
    "- There are many nuances about what rules a \"probability function\" must satisfy that we are going to gloss over\n",
    "- The key rules are these:\n",
    "  - The probability of nothing happening is zero, the probability of something happening is 1\n",
    "  - The probability of every event is between zero and 1\n",
    "  - If you have a set of events $e_1, e_2, ..., e_N$ where no outcome occurs in more than one event (e.g. even and odd), then\n",
    "  $$\n",
    "  p(e_1 \\text{ and } e_2 \\text{ and } ... \\text{ and } e_n) = p(e_1) + p(e_2) + ... + p(e_N)\n",
    "  $$\n",
    "- Everything we talk about today holds for situations where there are a finite or infinite number of outcomes, as long as you set things up \"correctly\""
   ]
  },
  {
   "cell_type": "markdown",
   "id": "8c2eb711-265d-43b7-a1e0-7074c373bc42",
   "metadata": {
    "slideshow": {
     "slide_type": "subslide"
    }
   },
   "source": [
    "## Notation\n",
    "- Let's call the sample space $S$ and individual outcomes $x$\n",
    "- Let's call the set of all events $E$ and an individual event $e$\n",
    "- Let's call the probability function $p(e)$\n",
    "- We can write that \n",
    "    1. $p(S)=1$\n",
    "    2. $0 \\le p(e) $ for all events $e$ in $E$\n",
    "    3. If every outcome appears at most once in a set of events $e_1, ..., e_n$, $p(e_1 \\text{ and } e_2 \\text{ and } ... \\text{ and }e_n) = \\sum_{i=1}^n p(e_i)$"
   ]
  },
  {
   "cell_type": "markdown",
   "id": "516db8cf-35bc-4fb0-8b92-1fe51057acdd",
   "metadata": {
    "slideshow": {
     "slide_type": "subslide"
    }
   },
   "source": [
    "## Betting on Dice\n",
    "- For example, let's bet on the roll of two six-sided die\n",
    "- An outcome is a pair of die faces, like $(3\\cdot,6\\cdot)$. The sample space is:\n",
    "$$\n",
    "\\left[ \\begin{array}{cccccc}\n",
    "(1\\cdot,1\\cdot) & (1\\cdot,2\\cdot) & (1\\cdot,3\\cdot) & (1\\cdot,4\\cdot) & (1\\cdot,5\\cdot) & (1\\cdot,6\\cdot) \\\\\n",
    "(2\\cdot,1\\cdot) & (2\\cdot,2\\cdot) & (2\\cdot,3\\cdot) & (2\\cdot,4\\cdot) & (2\\cdot,5\\cdot) & (2\\cdot,6\\cdot) \\\\\n",
    "(3\\cdot,1\\cdot) & (3\\cdot,2\\cdot) & (3\\cdot,3\\cdot) & (3\\cdot,4\\cdot) & (3\\cdot,5\\cdot) & (3\\cdot,6\\cdot) \\\\\n",
    "(4\\cdot,1\\cdot) & (4\\cdot,2\\cdot) & (4\\cdot,3\\cdot) & (4\\cdot,4\\cdot) & (4\\cdot,5\\cdot) & (4\\cdot,6\\cdot) \\\\\n",
    "(5\\cdot,1\\cdot) & (5\\cdot,2\\cdot) & (5\\cdot,3\\cdot) & (5\\cdot,4\\cdot) & (5\\cdot,5\\cdot) & (5\\cdot,6\\cdot) \\\\\n",
    "(6\\cdot,1\\cdot) & (6\\cdot,2\\cdot) & (6\\cdot,3\\cdot) & (6\\cdot,4\\cdot) & (6\\cdot,5\\cdot) & (6\\cdot,6\\cdot) \n",
    "\\end{array} \\right]\n",
    "$$\n",
    "- The events $E$ are all of the subsets of the above matrix (e.g. \"All rolls where both results are even\", \"all rolls that sum to 7\", \"All rolls where both the dice show the same outcome\")\n",
    "- For fair dice, each pair above is equally likely with probabilty $1/36$\n",
    "- Notice, the outcomes here aren't strictly numeric: They could be colors, animals, job titles, car models, anything. Outcomes aren't fundamentally numeric."
   ]
  },
  {
   "cell_type": "markdown",
   "id": "186dd0f6",
   "metadata": {
    "slideshow": {
     "slide_type": "slide"
    }
   },
   "source": [
    "# Random Variables, Expectation, Variance"
   ]
  },
  {
   "cell_type": "markdown",
   "id": "76d1776a-fb99-4cb1-853b-66a30b126d8f",
   "metadata": {
    "slideshow": {
     "slide_type": "subslide"
    }
   },
   "source": [
    "## Random Variables\n",
    "- A **random variable** is a rule that assigns numbers to outcomes\n",
    "- A random variable is a function $R$ that assigns a number $R(x)$ to each outcome $x$ in $S$\n",
    "- A random variable is how we quantify the consequences of an uncertain phenomenon\n",
    "- A random variable is not its probability function (e.g \"normal random variable\" is not really correct -- the random variable is normally distributed )"
   ]
  },
  {
   "cell_type": "markdown",
   "id": "7bf43332-b852-49d4-acb3-5b24d9822e85",
   "metadata": {
    "slideshow": {
     "slide_type": "subslide"
    }
   },
   "source": [
    "## The Expectation\n",
    "- What value is a random variable going to take?\n",
    "- Since a random variable is a rule that assigns a numeric value to every outcome, we can weight those values by the probabilities they occur, and sum:\n",
    "$$\n",
    "\\mathbb{E}[R] = p(x_1) R(x_1) + p(x_2)R(x_2) + ... + p(x_N)R(x_N) = \\sum_{i =1}^N p(x_i)R(x_i)\n",
    "$$\n",
    "- If the outcomes are numbers and all equally likely, we can set $R(x_i) = x_i$ and $p(x_i) = 1/N$, which gives\n",
    "$$\n",
    "\\mathbb{E}[R] = \\dfrac{1}{N} x_1 + \\dfrac{1}{N} x_2 + ... + \\dfrac{1}{N} x_N = \\dfrac{1}{N} \\sum_{i =1}^N x_i\n",
    "$$\n",
    "- This is called the **expectation of $R$** or the **expected value of $R$**. It is often denoted by $\\mu$ or $\\mu_R$, to emphasize it's a theoretical/population value. "
   ]
  },
  {
   "cell_type": "markdown",
   "id": "9fe0c9a9-b1a5-4b59-aabe-d3410524798a",
   "metadata": {
    "slideshow": {
     "slide_type": "subslide"
    }
   },
   "source": [
    "## Gambling\n",
    "- What's the expected value of rolling two dice, if you get the sum of the faces in money?\n",
    "- What's the expected value of a gamble where you get 10 if the sum is strictly greater than 7, but -5 if the sum is weakly less than 7?\n",
    "- What's the expected value of a gamble where you get 100 if the sum is odd and -50 if the sum is even?\n",
    "- What would you will be willing to pay for the above gambles?"
   ]
  },
  {
   "cell_type": "markdown",
   "id": "6ffd68c9-4402-443e-85d2-9bcb2b046209",
   "metadata": {
    "slideshow": {
     "slide_type": "subslide"
    }
   },
   "source": [
    "## The Variance\n",
    "- The variance of a random variable is an abstraction of sample variance: There is no sample with $1/N$ weighting, and we compute weights against the probability function instead\n",
    "- The **variance of $R$** is\n",
    "$$\\mathbb{V}[R] = p(x_1)(R(x_1)-\\mathbb{E}[R])^2 + p(x_2)(R(x_2)-\\mathbb{E}[V])^2 + \n",
    "... + p(x_N)(R(x_N)-\\mathbb{E}[R])^2 = \\sum_{i=1}^N p(x_i)(R(x_i)-\\mathbb{E}[R])^2\n",
    "$$\n",
    "- You can also write this as\n",
    "$$\n",
    "\\mathbb{V}[R] = \\mathbb{E}\\left[ (R-\\mathbb{E}[R])^2\\right]= \\mathbb{E}\\left[ (R-\\mu_R)^2\\right]\n",
    "$$\n",
    "- The variance is often denoted $\\sigma^2$ or $\\sigma_R^2$, to emphasize it's a theoretical/population value. "
   ]
  },
  {
   "cell_type": "markdown",
   "id": "69b058a6",
   "metadata": {
    "slideshow": {
     "slide_type": "slide"
    }
   },
   "source": [
    "# Random Number Generation in Python"
   ]
  },
  {
   "cell_type": "markdown",
   "id": "a18ad45e-d8fa-439f-a108-a7d83a93d4f0",
   "metadata": {
    "slideshow": {
     "slide_type": "subslide"
    }
   },
   "source": [
    "- Suppose you have a set $S$, like $S = \\{1,2,3,4,5,6\\}$, or `S = np.arange(6)+1`. For example, suppose you want to sample observations from your data frame: that corresponds to `np.arange( df.shape[0])`.\n",
    "    - To **sample with replacement**, you can use Numpy's `random.choice(S,size=n)` function to take $n$ draws from $S$, with the potential for repetition\n",
    "    - To **sample without replacement**, you can use Numpy's `np.random.shuffle(S)` function to randomize the order of the elements in $S$, and then $S[:N]$ to slice the first $N$ elements from the shuffled $S$\n",
    "- To draw `N` numbers from between 0 and 1 with uniform probability, you can use `np.random.uniform(size=N)`\n",
    "- To draw `N` numbers from a normal distribution with mean $m$ and standard deviation $s$, you can use `np.random.normal(m,s,size=N)`"
   ]
  },
  {
   "cell_type": "code",
   "execution_count": null,
   "id": "0ad2bc12-93dd-438d-838f-84ee0b9564ef",
   "metadata": {
    "slideshow": {
     "slide_type": "subslide"
    }
   },
   "outputs": [
    {
     "name": "stdout",
     "output_type": "stream",
     "text": [
      "[4 3 6]\n",
      "[5 3 3 1 5 2 5 4 5 6]\n"
     ]
    }
   ],
   "source": [
    "S = np.array([1,2,3,4,5,6]) # Object to sample\n",
    "x = np.random.choice(S, size=3)\n",
    "print(x)\n",
    "x = np.random.choice(S, size=10)\n",
    "print(x)"
   ]
  },
  {
   "cell_type": "code",
   "execution_count": 3,
   "id": "8e912cd8-54d4-4a54-9eb2-64d64ac4f3da",
   "metadata": {
    "slideshow": {
     "slide_type": "subslide"
    }
   },
   "outputs": [
    {
     "name": "stdout",
     "output_type": "stream",
     "text": [
      "[2 6 3 1 4 5]\n",
      "[2 6 3]\n"
     ]
    }
   ],
   "source": [
    "S = np.array([1,2,3,4,5,6]) # Object to sample\n",
    "N = 3 # Elements to take\n",
    "\n",
    "np.random.shuffle(S) # 1. Shuffle x\n",
    "print(S) \n",
    "y = S[:N] # 2. Take the first N elements\n",
    "print(y)"
   ]
  },
  {
   "cell_type": "code",
   "execution_count": 7,
   "id": "e40907be-367e-4a2e-be2a-c9dec29ebfea",
   "metadata": {
    "slideshow": {
     "slide_type": "subslide"
    }
   },
   "outputs": [
    {
     "name": "stdout",
     "output_type": "stream",
     "text": [
      "[2.93985783e-01 9.60477726e-01 5.97460677e-01 3.56094592e-01\n",
      " 1.61017731e-01 4.64420094e-01 8.21111521e-01 3.15617035e-01\n",
      " 1.39984978e-01 9.40703972e-01 2.69172091e-01 9.60233535e-01\n",
      " 7.11577297e-02 9.63150015e-01 2.06496345e-02 6.76100160e-01\n",
      " 5.77067305e-01 3.92784558e-01 3.84201454e-01 9.03116168e-01\n",
      " 8.64151683e-01 5.70733118e-01 5.11710234e-01 4.83404028e-02\n",
      " 7.21242549e-01 8.56276276e-02 6.28028939e-02 3.90997417e-01\n",
      " 9.55117772e-01 5.21077990e-01 7.94217672e-01 6.11888078e-01\n",
      " 1.52099516e-01 8.94702377e-01 8.83891767e-01 8.10963296e-01\n",
      " 1.26716326e-02 9.33637456e-01 4.27036245e-01 5.25141232e-01\n",
      " 4.13201341e-01 1.75872934e-01 7.05383704e-01 6.91154850e-01\n",
      " 2.58101394e-02 6.79978488e-01 8.25629219e-01 6.42766555e-01\n",
      " 4.15666467e-01 6.69826519e-01 9.14548202e-01 5.01320915e-01\n",
      " 2.36714430e-02 2.23740814e-01 5.38185662e-03 5.84722291e-01\n",
      " 2.85395158e-01 9.73197453e-01 5.02721547e-01 2.47341450e-01\n",
      " 5.55495134e-01 1.39477714e-01 7.78991634e-03 8.61416569e-01\n",
      " 7.33589944e-01 4.31834819e-02 3.20584925e-01 7.91027646e-01\n",
      " 2.19298969e-01 4.73553984e-01 4.31765855e-01 8.83167576e-01\n",
      " 1.46368340e-01 6.46667155e-02 1.06146827e-01 3.59602883e-01\n",
      " 1.39130162e-01 3.98511297e-01 2.31029012e-01 9.65513656e-01\n",
      " 7.60780115e-01 1.45317852e-01 3.18334052e-01 9.92687226e-01\n",
      " 3.27584155e-01 8.34281573e-01 3.20718285e-01 4.75898348e-01\n",
      " 7.13443206e-01 2.98740679e-01 4.18964607e-01 2.26525204e-01\n",
      " 3.78888787e-01 3.45686388e-01 2.00603316e-01 3.27034993e-01\n",
      " 2.61038498e-01 6.30368264e-01 4.02550580e-01 3.20174019e-01\n",
      " 1.93497379e-01 9.15193197e-01 2.20910104e-01 5.78818629e-01\n",
      " 5.53189251e-01 8.21235398e-02 1.21717380e-02 3.19603367e-01\n",
      " 6.36212550e-01 6.69528281e-01 8.66840429e-01 2.24693357e-01\n",
      " 9.01498556e-01 6.40699714e-01 6.67373788e-01 1.66059721e-02\n",
      " 9.62844677e-01 1.58839768e-01 6.48828625e-01 7.43829101e-01\n",
      " 2.71830429e-01 6.29936986e-01 3.06587532e-01 4.07215288e-01\n",
      " 5.18948212e-01 5.84447714e-01 7.03602005e-01 2.25769174e-01\n",
      " 8.31321476e-01 3.74205913e-02 7.71445198e-01 8.32804152e-01\n",
      " 2.68843345e-01 5.18807434e-01 9.41626545e-01 6.47559874e-01\n",
      " 1.57373583e-02 7.58007548e-01 3.49293796e-01 8.99854144e-01\n",
      " 9.52473646e-01 1.89343749e-01 2.46369041e-02 1.99930446e-01\n",
      " 8.01200586e-01 7.65919752e-01 6.60300760e-01 4.29206557e-01\n",
      " 9.70824312e-01 2.03068575e-01 7.12999395e-01 9.36287695e-01\n",
      " 5.29010186e-01 5.19390136e-02 4.94497862e-01 1.70565107e-01\n",
      " 2.35444132e-01 6.25010453e-01 4.11070260e-01 7.74234653e-01\n",
      " 7.52111220e-01 8.34401134e-01 9.07716286e-01 7.19876849e-01\n",
      " 6.44083688e-01 5.33918756e-01 6.73495166e-01 4.10447371e-01\n",
      " 2.48469241e-01 7.42703468e-01 7.61112072e-01 4.55264064e-01\n",
      " 3.84523659e-01 9.85810871e-02 8.13218633e-01 6.86830500e-01\n",
      " 7.62435187e-01 6.52633675e-01 2.05429848e-01 4.26304171e-01\n",
      " 4.94606263e-01 7.81098129e-01 8.29533652e-01 5.44615046e-01\n",
      " 1.37064758e-01 6.57742323e-01 8.05401082e-02 3.05439483e-01\n",
      " 3.26552291e-01 5.92106933e-01 3.45911330e-01 4.06686725e-01\n",
      " 8.65877420e-01 8.39275087e-01 7.39791618e-02 5.10666671e-02\n",
      " 1.92776790e-02 8.62289356e-01 1.64103967e-02 6.07302005e-01\n",
      " 6.74769211e-01 8.06351164e-01 7.33253155e-01 9.34700425e-01\n",
      " 7.91870520e-01 7.98186608e-02 4.85751254e-02 2.93503230e-02\n",
      " 7.21572052e-01 9.58413557e-01 5.10996645e-01 2.98470920e-01\n",
      " 5.47281704e-01 8.08341049e-01 3.25493158e-01 4.53348184e-01\n",
      " 7.98196179e-01 6.33613132e-01 1.95695692e-01 4.90603293e-01\n",
      " 4.05294717e-01 3.61217713e-01 2.47869082e-01 8.90139256e-01\n",
      " 7.58473214e-01 6.17537326e-01 9.60956457e-01 1.99938169e-03\n",
      " 6.00616383e-01 5.82412108e-01 8.74403393e-01 5.59059531e-01\n",
      " 7.17151041e-01 7.58667861e-01 7.88228565e-01 2.08192158e-01\n",
      " 2.48841407e-01 6.94643484e-01 4.46238243e-01 3.86382031e-01\n",
      " 5.75145378e-01 3.27095941e-01 5.50274149e-01 4.56983367e-01\n",
      " 5.34837205e-01 1.22908846e-01 7.35781381e-01 6.41521384e-01\n",
      " 2.60594272e-01 6.34947822e-01 6.72270101e-01 7.75486874e-01\n",
      " 8.11037847e-01 7.15541370e-01 4.85308799e-01 6.67716674e-01\n",
      " 9.16612731e-01 2.91199050e-02 6.55723738e-01 7.68674060e-01\n",
      " 7.52160415e-01 6.86055307e-01 4.66098081e-01 7.56098588e-01\n",
      " 3.31582574e-01 5.00547737e-02 2.57110832e-01 5.06144153e-01\n",
      " 6.96018130e-01 5.81542088e-01 3.05638505e-02 3.88731064e-01\n",
      " 1.74011209e-01 8.32898794e-01 8.98209837e-01 5.89729554e-01\n",
      " 2.22302768e-01 4.27493535e-01 1.73880424e-01 3.88101087e-01\n",
      " 1.57412577e-01 7.03755392e-01 6.68617320e-01 4.93893263e-01\n",
      " 4.95903418e-02 3.73885236e-01 5.41485879e-01 8.07828124e-01\n",
      " 5.89098772e-01 6.85932278e-01 1.56511846e-01 5.57977672e-01\n",
      " 2.73152159e-01 1.02751808e-01 1.27658320e-01 5.70461294e-01\n",
      " 7.80985953e-02 1.93753484e-01 9.40322148e-01 3.76471155e-01\n",
      " 1.46218843e-01 2.21297865e-01 4.12607687e-01 6.35841124e-01\n",
      " 6.02373407e-01 6.56352697e-01 5.29233954e-01 9.88498682e-01\n",
      " 1.10643261e-01 3.04400184e-01 1.97316721e-01 9.10170564e-01\n",
      " 8.43057023e-01 6.51414712e-01 4.39193901e-02 5.29824781e-01\n",
      " 7.10587057e-02 8.16042530e-01 1.52332179e-01 6.14964266e-01\n",
      " 4.81129829e-01 4.76834003e-01 1.56193165e-01 4.80689016e-01\n",
      " 6.20048656e-01 1.07209718e-01 3.67456372e-01 5.90394744e-01\n",
      " 3.96892965e-02 2.78948748e-01 1.75615368e-01 7.12252062e-01\n",
      " 5.88113109e-01 1.16611512e-01 7.41455200e-02 7.85004386e-02\n",
      " 2.64455274e-01 8.55636972e-01 4.65902294e-01 4.30242337e-01\n",
      " 9.65574983e-01 6.34686945e-01 3.07189208e-01 1.80313943e-02\n",
      " 7.01685937e-01 7.77447970e-01 4.45455402e-01 4.73703536e-01\n",
      " 4.91971372e-01 2.14764990e-01 1.82098665e-01 4.45451316e-03\n",
      " 1.13721757e-01 4.91587886e-01 3.40979552e-01 1.97747541e-01\n",
      " 1.28903509e-01 2.19695503e-01 5.55717683e-01 8.59842573e-01\n",
      " 8.95789225e-01 2.04747797e-01 5.50850090e-01 1.15759348e-01\n",
      " 7.37922003e-01 1.55279130e-01 4.22540165e-01 5.78615966e-01\n",
      " 1.68039011e-01 6.64924912e-01 3.01617909e-01 5.04482964e-02\n",
      " 1.07191681e-01 8.23804468e-01 4.77296541e-01 3.46531034e-01\n",
      " 3.62650609e-01 7.85809388e-01 6.84293023e-01 5.71798865e-01\n",
      " 7.49150344e-01 4.15011848e-01 7.83783670e-01 5.30203550e-02\n",
      " 8.61110854e-01 9.47974137e-01 3.36543771e-01 6.30053192e-01\n",
      " 9.45739805e-01 5.26409104e-01 4.90141288e-01 2.95586791e-01\n",
      " 8.78382256e-01 3.30466877e-01 1.74148346e-01 4.45797325e-01\n",
      " 8.00839058e-01 1.52119465e-01 8.37722547e-02 4.71502572e-01\n",
      " 3.89125838e-01 2.65743706e-01 6.10058338e-01 2.54421696e-01\n",
      " 6.69483048e-01 5.36270835e-01 8.39176823e-01 3.22720888e-01\n",
      " 8.30408620e-01 5.15516873e-01 3.18690683e-01 8.49066915e-01\n",
      " 9.09913725e-01 4.14335877e-01 8.05859954e-01 8.31129365e-01\n",
      " 6.56455483e-01 2.55719196e-01 7.64371225e-01 6.88149006e-01\n",
      " 1.45350790e-01 3.80509330e-01 9.71648233e-01 3.66156309e-01\n",
      " 8.74106119e-03 5.00976831e-01 2.91210850e-01 6.70408354e-01\n",
      " 8.24004928e-01 7.49895141e-01 8.91119384e-01 9.43105889e-05\n",
      " 1.46028800e-01 2.70501238e-02 3.37291894e-01 1.44792334e-02\n",
      " 8.65143315e-01 7.59969925e-01 6.57037913e-01 6.93021678e-01\n",
      " 4.27774091e-01 1.65682203e-01 8.28098183e-01 9.46375935e-01\n",
      " 5.07936414e-01 4.18406453e-01 5.63802481e-01 1.04531109e-01\n",
      " 7.68568917e-01 4.12548808e-01 4.05196481e-01 1.40955857e-01\n",
      " 8.14384913e-03 5.42753544e-01 9.74811769e-01 8.26640911e-01\n",
      " 2.52434680e-01 2.22075797e-01 1.27995418e-01 9.81335881e-02\n",
      " 9.00212166e-01 8.44133541e-01 5.85436164e-02 6.09297985e-01\n",
      " 3.80748450e-01 6.78326459e-01 9.90019680e-02 3.01658268e-03\n",
      " 8.10072225e-01 1.27351557e-01 1.19006289e-01 2.12326657e-01\n",
      " 1.95592119e-01 7.49158958e-01 5.35384042e-01 5.78214493e-02\n",
      " 1.82155337e-01 3.97623655e-01 9.09591827e-01 1.09151419e-01\n",
      " 3.21295313e-02 8.62893654e-01 5.92127924e-01 5.85791333e-01\n",
      " 1.59023121e-01 4.35720687e-01 2.19849746e-01 8.57802591e-01\n",
      " 9.77644492e-01 5.10695496e-01 9.99483637e-01 2.95600346e-01\n",
      " 6.33499840e-01 4.78443535e-01 4.06040222e-01 8.48432334e-01\n",
      " 9.56586714e-01 2.27568132e-02 2.48551159e-01 1.90079792e-01\n",
      " 8.14436604e-01 8.38851125e-02 2.79614344e-01 9.60450073e-01\n",
      " 4.20087671e-01 3.54307152e-01 2.11228316e-01 7.45887849e-01\n",
      " 4.38599598e-01 5.78949968e-02 8.85649277e-01 2.47827115e-01\n",
      " 7.03013666e-01 1.07623030e-01 8.37828657e-01 2.20917350e-01\n",
      " 5.50889563e-01 7.93176351e-01 8.48726594e-01 1.51127274e-01\n",
      " 7.77025534e-01 2.94787215e-01 2.15434875e-03 5.60387570e-02\n",
      " 2.08693139e-01 3.36345408e-01 9.39206260e-01 7.15633639e-02\n",
      " 4.36640267e-01 3.15464283e-01 9.75828659e-01 5.27347403e-01\n",
      " 5.91214743e-01 6.12197421e-01 2.89036067e-01 7.57534414e-01\n",
      " 6.52241433e-02 4.29790232e-01 1.01883128e-01 9.48499684e-01\n",
      " 8.70650519e-01 8.59959733e-01 8.40810646e-01 1.27754962e-01\n",
      " 9.36848846e-01 2.92865346e-01 2.78873913e-01 4.48840653e-01\n",
      " 1.34027053e-01 4.31246632e-01 1.17715489e-01 9.28075867e-01\n",
      " 1.35084998e-01 5.61775236e-01 9.70887848e-02 9.76187962e-01\n",
      " 6.90935411e-01 2.34870227e-01 6.99444324e-01 7.62236105e-01\n",
      " 6.07904737e-01 1.80160661e-01 2.70237737e-02 6.27245371e-01\n",
      " 8.00093600e-01 2.63925297e-01 5.01878974e-02 7.92112353e-01\n",
      " 8.14987928e-01 6.73001312e-01 3.09716567e-01 9.66935817e-01\n",
      " 9.10119961e-01 8.07988858e-01 5.90287757e-02 3.41897438e-01\n",
      " 3.47064965e-01 8.61484361e-02 5.39143422e-01 4.14861658e-01\n",
      " 2.02161908e-01 6.92677725e-01 9.05063283e-01 4.33141044e-01\n",
      " 1.17708056e-01 8.52825494e-01 7.87020774e-01 7.33931518e-01\n",
      " 2.28907659e-01 1.35264662e-01 6.50571058e-01 5.87194642e-01\n",
      " 5.27734479e-02 5.46554583e-01 3.35196384e-01 8.49474474e-01\n",
      " 3.64243027e-01 5.88868271e-01 8.62863741e-01 6.90189993e-01\n",
      " 6.32525399e-01 5.88429429e-01 3.80206574e-01 7.66018086e-01\n",
      " 5.40811995e-01 1.46075749e-01 5.57647766e-01 3.15187142e-01\n",
      " 2.54303451e-01 4.14069667e-01 4.89973042e-01 9.68977907e-01\n",
      " 2.98123164e-01 5.78482769e-01 7.45099422e-01 6.13177173e-01\n",
      " 2.70632517e-01 9.95791080e-01 1.07965243e-02 6.13704650e-01\n",
      " 2.18674521e-01 3.70891510e-01 9.08823858e-01 6.16232187e-01\n",
      " 4.05944606e-01 8.72247946e-01 4.96080501e-01 3.48384681e-03\n",
      " 1.06555095e-02 6.75980205e-01 2.37656984e-01 9.19391235e-01\n",
      " 7.59329440e-01 5.55771234e-01 5.22546529e-01 9.13298670e-01\n",
      " 7.63397620e-01 2.35502677e-01 1.84244851e-01 9.15857362e-01\n",
      " 7.39790072e-02 1.14233420e-01 9.51626163e-01 7.79128539e-01\n",
      " 7.86824450e-01 1.03404561e-01 2.28861952e-01 8.77137627e-01\n",
      " 3.39389484e-01 7.03986438e-02 1.57762930e-01 8.80474502e-01\n",
      " 7.31904555e-01 1.19788901e-01 5.95662161e-01 1.95056260e-01\n",
      " 2.34951919e-01 2.20847228e-01 3.59630464e-01 4.04379924e-01\n",
      " 2.32730827e-02 2.80293383e-01 5.17545997e-01 4.42810791e-01\n",
      " 6.37514875e-01 1.81320882e-01 9.18666256e-01 3.48344730e-01\n",
      " 9.04535041e-01 4.86985789e-01 5.80566064e-01 4.01194731e-01\n",
      " 9.45711702e-01 7.39600549e-01 2.06877417e-01 6.95049190e-01\n",
      " 5.92227259e-01 5.89827035e-01 2.39810675e-01 2.47243491e-01\n",
      " 4.28899114e-01 6.96244560e-01 5.37003934e-01 7.95105637e-01\n",
      " 2.24751669e-01 5.22599260e-01 1.33044813e-01 7.49931135e-01\n",
      " 6.28989200e-01 5.88054064e-01 3.49391798e-01 2.70061698e-01\n",
      " 9.16381416e-01 7.33025578e-01 1.00111393e-01 7.13595664e-01\n",
      " 8.30356995e-01 8.06446968e-01 8.05191369e-01 6.78618840e-01\n",
      " 6.81042671e-01 9.03556854e-01 9.44479411e-01 9.30757061e-01\n",
      " 2.24613786e-01 1.43458067e-02 6.74431926e-01 2.25691629e-02\n",
      " 5.58820677e-01 1.44508183e-01 7.54066451e-01 7.73315542e-01\n",
      " 7.05052515e-01 1.31375138e-01 5.16552571e-01 2.51070667e-02\n",
      " 7.72324714e-01 3.13826837e-01 3.02281551e-02 8.12255950e-01\n",
      " 7.51275421e-01 3.15238920e-02 7.94815053e-01 2.58750744e-01\n",
      " 4.89593069e-01 5.28324688e-01 7.05570184e-01 8.88134994e-01\n",
      " 1.46357240e-01 8.67261290e-01 4.01498193e-01 3.09362888e-01\n",
      " 1.10436463e-01 9.76081465e-01 3.90119251e-01 3.70706886e-01\n",
      " 3.22193746e-01 3.91179490e-01 7.49842178e-01 3.60221858e-01\n",
      " 2.71100327e-01 8.79929099e-02 9.87129378e-01 5.90239247e-01\n",
      " 9.00133316e-02 6.10901436e-01 1.58128733e-01 5.09828131e-01\n",
      " 6.79986954e-01 4.80709370e-02 7.75836226e-01 5.85957255e-01\n",
      " 7.51252638e-02 9.47857268e-01 6.69126785e-01 8.38637653e-01\n",
      " 5.44393532e-01 1.23762503e-02 1.42484038e-01 9.13244213e-01\n",
      " 5.41310279e-01 8.63673971e-01 1.83793876e-01 7.48950261e-01\n",
      " 1.67336102e-01 5.93502455e-01 1.14011147e-02 5.61541897e-01\n",
      " 2.07778805e-01 6.00835560e-01 9.61692882e-02 3.93550889e-01\n",
      " 3.97264573e-01 5.45424241e-01 3.71724978e-01 3.56332510e-02\n",
      " 3.68718103e-01 1.41237169e-01 8.51176006e-01 6.46526837e-01\n",
      " 8.84734736e-01 5.28228765e-01 9.61303016e-01 2.92245230e-01\n",
      " 6.64223330e-01 4.97726359e-01 8.53734181e-01 8.67898337e-01\n",
      " 4.96746826e-02 4.25819645e-01 4.75380954e-01 1.10418830e-01\n",
      " 9.08669443e-01 5.31618779e-01 8.11169492e-02 2.10741855e-01\n",
      " 4.00700637e-01 9.66639549e-01 5.14123076e-01 2.64389736e-01\n",
      " 3.50252923e-01 5.37820841e-01 5.92096734e-01 6.49221965e-01\n",
      " 1.82954540e-02 1.68654517e-01 1.11197192e-01 6.69490405e-01\n",
      " 8.36146469e-01 3.20687002e-01 3.88959506e-01 8.58915158e-01\n",
      " 7.11003129e-01 4.31991082e-01 1.10117537e-01 3.73500401e-01\n",
      " 8.31545867e-01 4.17936767e-01 5.04800740e-01 9.02747765e-01\n",
      " 1.33281742e-01 1.86987684e-01 9.31944515e-01 3.25964578e-01\n",
      " 1.58103153e-01 8.71013300e-01 9.88668619e-01 9.84202871e-01\n",
      " 1.60050473e-01 1.91359337e-01 5.44105409e-01 2.64902233e-01\n",
      " 9.06034548e-01 5.14471983e-01 8.72123768e-01 8.19322111e-01\n",
      " 6.09895126e-01 9.44123060e-01 1.30007700e-01 6.73714091e-01\n",
      " 6.63459746e-01 5.65334480e-01 2.09370329e-01 3.41739251e-01\n",
      " 6.06045205e-01 9.32756554e-01 2.18876378e-01 4.91753371e-01\n",
      " 8.62178541e-01 5.21248773e-02 9.61416905e-01 8.96109342e-01\n",
      " 2.48720560e-01 3.69127036e-02 3.58163972e-01 4.91173341e-01\n",
      " 9.80022934e-01 5.02665434e-01 4.48987510e-01 2.92757292e-02\n",
      " 9.92485796e-01 7.96915761e-01 7.22602975e-01 2.46142533e-02\n",
      " 2.18705688e-01 6.98222413e-01 1.02754780e-01 2.59178507e-01\n",
      " 7.41507537e-01 6.62475841e-01 7.48380387e-01 1.25569287e-02\n",
      " 5.38195010e-01 3.80750411e-01 7.90898186e-01 4.74455788e-01\n",
      " 4.13731778e-01 7.00738857e-01 2.00075586e-01 3.93923882e-01\n",
      " 1.43534776e-01 4.31379147e-01 1.89492086e-01 5.41641676e-01\n",
      " 5.00550725e-01 9.46168851e-01 1.39879163e-01 1.75900115e-01\n",
      " 7.97674252e-01 5.92174423e-01 4.36563999e-01 9.91961220e-01\n",
      " 8.81832853e-01 2.16298354e-01 7.24384335e-01 1.19282529e-01\n",
      " 8.62957338e-01 6.53007324e-01 4.50905005e-02 8.41926668e-01\n",
      " 5.31878096e-01 5.69505115e-01 3.64000978e-01 1.34834357e-01\n",
      " 6.93481249e-01 2.49295308e-01 5.25486895e-01 5.17014652e-01\n",
      " 9.31295457e-01 8.65702080e-01 2.66591105e-01 5.88668232e-01\n",
      " 3.51221552e-01 3.52103626e-01 8.39420848e-01 5.69464567e-01\n",
      " 5.57434166e-01 8.33886228e-01 7.75517276e-01 2.85890324e-01\n",
      " 1.70697572e-01 8.72991875e-01 3.56472999e-01 3.68451562e-01\n",
      " 4.93661070e-01 2.06059858e-01 6.74068016e-01 4.40123351e-01\n",
      " 9.60872231e-01 5.36611504e-01 5.12837845e-01 2.78692145e-01\n",
      " 5.04631461e-01 5.90875625e-01 2.93113212e-01 3.18229887e-01\n",
      " 7.58337011e-01 6.51865239e-01 4.42188304e-01 7.49579652e-01\n",
      " 8.11839834e-01 9.46778874e-01 2.76587904e-01 2.45119854e-02\n",
      " 5.05963025e-03 6.95331301e-01 7.25515943e-02 3.49252229e-01\n",
      " 5.19265072e-01 5.22027509e-01 9.96715841e-01 4.34978097e-01\n",
      " 8.41873713e-01 8.63019116e-03 9.18941923e-01 9.15544617e-01\n",
      " 6.27346812e-01 3.55722006e-01 6.21458193e-01 5.09523821e-01\n",
      " 7.38322316e-01 4.83739289e-01 5.65988421e-01 4.71957892e-01\n",
      " 4.68761161e-01 6.59619163e-01 1.01490936e-01 8.02281413e-01\n",
      " 2.35165696e-01 3.50219298e-01 8.49419476e-01 8.16803476e-01\n",
      " 4.20803217e-01 6.28833543e-01 1.73198952e-01 5.42281774e-01\n",
      " 4.23337024e-01 7.72765695e-01 2.57137486e-01 1.64453481e-01\n",
      " 6.01149396e-01 5.79998160e-01 5.54006773e-02 6.16814766e-01\n",
      " 5.32305982e-01 3.20154955e-01 3.41795671e-01 1.21153451e-01\n",
      " 7.15650838e-01 4.62042177e-01 8.56715536e-01 9.59390231e-01\n",
      " 4.00820918e-02 2.45980023e-01 1.53305251e-01 7.37945533e-01\n",
      " 2.38594626e-01 5.09138498e-01 4.93680922e-01 6.22422423e-02]\n"
     ]
    },
    {
     "data": {
      "text/plain": [
       "<Axes: ylabel='Count'>"
      ]
     },
     "execution_count": 7,
     "metadata": {},
     "output_type": "execute_result"
    },
    {
     "data": {
      "image/png": "[encoded data removed]",
      "text/plain": [
       "<Figure size 640x480 with 1 Axes>"
      ]
     },
     "metadata": {},
     "output_type": "display_data"
    }
   ],
   "source": [
    "X = np.random.uniform(size=1000) # A random sample of uniformly distributed numbers\n",
    "print(X)\n",
    "sns.histplot(X)"
   ]
  },
  {
   "cell_type": "code",
   "execution_count": 8,
   "id": "6bb24ece-0c08-4ea6-b76a-947460ba5c8a",
   "metadata": {
    "slideshow": {
     "slide_type": "subslide"
    }
   },
   "outputs": [
    {
     "name": "stdout",
     "output_type": "stream",
     "text": [
      "[ 7.20998460e+00  1.20447556e+01  2.37173393e+01  1.87812825e+01\n",
      "  7.27978834e+00  1.48844196e+01  9.27366409e+00  1.09799193e+01\n",
      "  2.99645878e+00  1.09347892e+01  3.43162490e+00  6.98488769e+00\n",
      "  1.17141308e+01  7.23053420e+00  6.27599830e+00  9.79715744e+00\n",
      "  9.46161420e+00  4.19906473e+00  1.68149533e+01  5.26316439e+00\n",
      "  1.42997207e+01  6.43813186e+00  8.20729247e+00  1.20454100e+01\n",
      "  1.33448315e+01  1.04588446e+01  1.45454433e+01  1.02713423e+01\n",
      "  8.91094029e+00  1.44855962e+01 -2.89904918e+00  1.24374105e+01\n",
      "  3.75026856e+00  7.35460896e+00  1.14363502e+01  1.13967418e+01\n",
      "  1.13004789e+01  8.54954746e-01  1.50912126e+01  1.43302901e+01\n",
      "  9.37978334e+00  8.25767629e+00  1.29433580e+01  1.79190478e+01\n",
      "  8.86699669e+00  1.50616812e+01  1.24387355e+01  1.08571062e+01\n",
      "  5.28308469e+00  4.40875207e+00 -6.15991554e-01  9.92326166e+00\n",
      "  1.19553329e+01  1.24788544e+01  1.37678577e+01  1.05390708e+01\n",
      "  1.46991522e+01  1.46069511e+01  9.29007300e+00  1.85341388e+01\n",
      "  9.62040195e+00  6.72390767e+00  5.35338861e+00  8.29965524e+00\n",
      "  1.55469373e+01  5.63560324e+00  1.95315272e+01  1.04878840e+01\n",
      "  5.24527930e+00  4.52076424e+00  1.67797324e+01  5.19214587e+00\n",
      "  6.85875042e+00  6.96486237e+00  1.96871740e+01  1.15081827e+01\n",
      "  1.23537427e+01  1.11459767e+01  1.23007163e+01  8.81087414e+00\n",
      "  6.46273223e+00  1.61118239e+01  1.26278747e+01  3.02938547e+00\n",
      "  9.72919893e+00  1.33240452e+01  7.40596405e-01  1.45430641e+01\n",
      "  5.20056248e+00  9.85075839e+00  5.76479210e+00  8.95327868e+00\n",
      "  1.26288585e+01  1.44033456e+01  1.28620723e+01  1.47569260e+01\n",
      "  1.39623177e+01  7.66174602e+00  8.39997154e+00  1.22343952e+01\n",
      "  1.45907944e+01  5.90085420e+00  9.38329404e-01  3.96173632e+00\n",
      "  2.09855460e+01  8.84330879e+00  1.10520644e+01  8.24139741e+00\n",
      "  4.21478119e+00  1.14372346e+01  4.23887316e+00  2.26330533e+00\n",
      "  2.35001726e+00  1.04254559e+01  8.66849514e+00  1.32735519e+01\n",
      "  1.66657499e+01  1.16730810e+01  1.29292669e+01  1.62623100e+01\n",
      "  6.78689587e+00  1.54850945e+01  2.20459880e+01 -5.15798014e-01\n",
      "  1.07090392e+01  9.77810863e+00  9.67548578e+00  1.53143207e+01\n",
      "  7.61107570e+00  8.70447964e+00  8.07243269e+00  8.45492345e+00\n",
      "  9.61873046e+00  1.19181261e+01  1.17811620e+01  4.77496650e+00\n",
      "  3.79561185e+00  2.16355338e+00  5.29172570e+00  2.32702046e+00\n",
      "  1.40323863e+00  1.38466260e+01  3.83751564e+00  2.16606057e+01\n",
      "  8.06512510e+00  4.76074337e-01  3.50572773e+00  1.28380207e+01\n",
      "  1.98673439e+01  5.27833320e+00  1.07423983e+01  7.70027642e+00\n",
      "  8.92719990e+00  5.42169158e+00  8.67313208e+00  3.36947434e+00\n",
      "  9.79856617e+00  7.19825788e+00  5.28511357e+00  3.41922893e+00\n",
      "  2.87454454e+00  1.20395722e+01  9.02697896e+00  6.14119034e+00\n",
      "  2.68156266e+00  1.64201943e+01  1.64537271e+01  3.09998698e-01\n",
      "  1.37149445e+01  1.47475223e+01  2.05884145e+01  1.35723039e+01\n",
      " -1.42252077e+00  1.08688373e+01  7.81015278e+00 -9.23111122e-01\n",
      "  8.70799660e+00  8.36688182e+00  6.28241365e+00  1.62302671e+01\n",
      "  1.25438728e+01  2.42893604e+01  1.55973808e+01  8.73017484e+00\n",
      "  1.14347943e+01  9.48284962e+00  1.30709832e+01  1.12549885e+01\n",
      "  9.24399646e+00  6.64851827e+00  3.62222462e+00  6.27117791e+00\n",
      "  9.54363425e+00  4.49556223e+00  1.10168963e+01  1.76657543e+01\n",
      "  6.93649610e+00  4.31426548e+00  2.48553110e+00  1.06490764e+01\n",
      "  4.78701716e+00  1.04577920e+01  1.22682205e+01 -1.07171346e+01\n",
      "  1.30976834e+01  2.58778284e+00  1.47825649e+01  1.23186943e+01\n",
      "  1.66812054e+01  1.02010945e+01  1.12129120e+01  5.86002380e+00\n",
      "  1.11847391e+01  2.27972118e+01  1.62630184e+01  9.46789137e+00\n",
      "  7.88539007e+00  1.34550704e+01  3.54608756e+00  5.11499257e+00\n",
      "  5.14970623e-01  9.23071187e+00  1.42245907e+01  1.06296670e+01\n",
      "  9.70132240e+00  9.58144541e+00  1.37672721e+00  1.47148579e+00\n",
      "  1.24531442e+01  1.19489842e+01  7.97759498e+00  1.20827411e+01\n",
      "  9.65833371e+00 -3.78893017e+00  2.49427987e+00  1.76605296e+01\n",
      "  1.61924650e+00  8.27222694e+00  1.41303376e+01  1.68108682e+01\n",
      "  5.19727864e+00  7.91417675e+00  5.68570673e+00  1.67441824e+01\n",
      "  7.52540584e+00  9.01086939e+00  1.46331503e+01  1.13324436e+01\n",
      "  6.41621184e+00  1.22415272e+01  1.54505220e+01  4.98660739e+00\n",
      "  7.49142126e+00  8.79366020e+00  1.37675980e+01  1.41050435e+01\n",
      "  6.36510532e+00  1.32568946e+01  1.02811227e+01  1.12276637e+01\n",
      "  9.98301776e+00  1.47842201e+01  1.89090042e+01  2.31847163e+01\n",
      "  7.26112956e+00  1.02878303e+01  1.52295348e+01  9.91802221e+00\n",
      "  4.12041665e+00  7.59405596e+00  1.38547511e+01  1.14624589e+01\n",
      "  8.58684287e+00  1.69391881e+00  3.12497155e+00  1.43402790e+01\n",
      "  1.35116629e+01  1.44128332e+01  1.72158754e+01  1.35162398e+01\n",
      "  1.51218617e+01  1.40409373e+01  3.15768369e+00  5.23697678e+00\n",
      "  1.01774426e+01  1.40199434e+01  2.82996947e+00  1.38213968e+01\n",
      "  1.31080326e+01  1.60940830e+01  4.05794029e+00  8.91983408e+00\n",
      "  5.55594831e+00  2.00536375e-01  5.57959697e+00  9.22179450e+00\n",
      "  6.12390639e+00  4.11519759e+00  1.09110596e+01  7.65106835e+00\n",
      "  6.21493878e+00  1.40892777e+01  8.83729887e+00  9.04582650e+00\n",
      "  1.82440687e+01  8.40980374e+00  1.15707540e+01  8.02564780e+00\n",
      "  1.14142436e+01  3.34662286e+00  1.41353437e+01 -7.99029952e-02\n",
      "  5.85498032e+00  1.56974510e+01  1.25077442e+01  9.66694073e+00\n",
      "  9.05042271e+00  1.11986065e+01  1.39150644e+01  8.95321772e+00\n",
      "  6.27684140e+00  8.92879722e+00  1.47020252e+01  5.13468459e+00\n",
      "  1.56074734e+01  9.08633765e+00  4.78393058e+00  6.40714272e+00\n",
      "  9.58661816e+00  9.56998116e+00  6.85783084e+00  1.71219957e+01\n",
      "  1.42263488e+01  1.15048630e+01  1.17281359e+01  3.87702885e-02\n",
      "  1.13083798e+01  1.61300080e+01  7.00011337e+00  3.98647783e+00\n",
      "  5.82680377e+00  6.48070487e+00  1.47025097e+01  4.28569007e+00\n",
      "  1.25305253e+01  4.45302966e+00  3.90084593e+00  9.11447508e+00\n",
      "  9.39580228e+00  8.43065363e+00  1.47323517e+01  8.09234080e+00\n",
      "  1.28163862e+01  1.70585198e+01  1.21580775e+01  1.39244058e+01\n",
      "  1.11462377e+01  4.90159463e+00  7.39425442e+00  5.00337639e+00\n",
      "  1.52716086e+01  1.62043505e+01  1.62046461e+01 -4.88604196e+00\n",
      "  6.64885901e+00  2.04735455e+01  5.13647602e+00 -4.32701139e+00\n",
      "  1.16384026e+01  1.18367170e+01  1.44921305e+01  9.71178317e+00\n",
      "  9.80019034e+00  1.41531238e+01  1.41495857e+01  4.61399319e+00\n",
      "  6.82591807e+00  1.48036582e+01  8.54396948e+00  8.79734227e+00\n",
      "  1.00983263e+01  1.64516330e+01  5.84735753e+00  4.00828933e+00\n",
      "  1.43221722e+01  9.28536310e+00  1.60404137e+01  2.14967763e+00\n",
      "  3.15173646e+00  9.49787964e+00  8.83139352e+00  1.15627216e+01\n",
      "  6.04505287e+00  8.71726692e+00  1.87947008e+01  5.59261708e+00\n",
      "  7.06830979e+00  1.22609414e+01  1.15270483e+01  5.29244284e+00\n",
      "  1.58328548e+01  4.73957629e+00  1.31887771e+01  9.94456008e+00\n",
      "  1.41019189e+01  1.57872393e+01  9.49332412e+00  8.89037931e+00\n",
      "  1.59044722e+01  1.31049321e+01  2.30027287e+00  1.26839599e+01\n",
      "  6.64215593e+00  7.49266273e+00  1.29151697e+01  9.38647585e+00\n",
      "  8.93401254e+00  1.27027289e+01  1.05250662e+01  1.37210881e+01\n",
      "  1.41571116e+01  5.63341503e+00  1.36285743e+01  7.12252262e+00\n",
      "  1.60640538e+01  9.89631501e+00  1.79826151e+01  1.35551947e+01\n",
      "  4.85640611e+00  1.31628276e+01  1.16576076e+01  1.30469981e+01\n",
      "  5.47797173e+00  3.89741020e+00  3.14472891e+00  5.80276640e+00\n",
      "  1.27441011e+01  1.20847694e+01  6.04261565e+00  1.21638103e+01\n",
      "  1.64296367e+01  8.69962272e+00  1.36205082e+01  1.39851752e+01\n",
      "  4.20941898e+00  6.89657479e+00  6.67759478e+00  5.16156759e+00\n",
      "  7.04152456e+00  1.45580008e+01  8.12492690e+00  4.19245218e+00\n",
      "  9.67580563e+00  1.43421307e+01  1.07567926e+01  7.02073579e+00\n",
      "  1.64564363e+01  5.77816078e+00  1.11224202e+01  6.99355906e+00\n",
      "  4.52339215e+00  1.47457976e+00  2.63344986e+00  8.19671747e+00\n",
      "  1.15780069e+01  1.16426925e+01  1.21763043e+01  9.23026926e+00\n",
      "  1.25760761e+01  1.15397716e+01  1.04873269e+01  1.16674316e+01\n",
      "  1.94499206e+01  1.61582649e+01  7.21350011e+00  3.71438620e+00\n",
      "  1.58398026e+01  1.11177468e+01  9.75070357e+00  1.83291484e+00\n",
      "  8.81460199e+00  1.13906059e+01  1.43524410e+01  1.98227757e+01\n",
      "  7.43793221e+00 -3.41304232e-01  5.63114825e+00  1.01821118e+00\n",
      "  3.32339802e+00  8.94746767e+00 -1.14213558e+00  1.13189874e+01\n",
      "  1.26930939e+01  1.09606960e+01  9.86161484e+00  7.16002015e+00\n",
      "  7.59299305e+00  1.99480010e+00  1.34064219e+01  7.33536985e+00\n",
      "  1.70751594e+01  1.98508719e+01  8.63344825e+00  8.46980152e+00\n",
      "  7.61725317e+00  5.86488982e+00  1.26224199e+01  1.62925346e+01\n",
      "  3.77353553e+00  1.51300537e+01  1.55803716e+01  1.68917359e+01\n",
      "  1.99228897e+01  7.44465156e+00  4.35382942e+00  1.74589111e+01\n",
      "  1.39058984e+01  1.23661885e+01  1.30901753e+01  8.86295416e+00\n",
      "  8.77895745e+00  4.15811892e+00  2.34090705e+00  3.77671955e+00\n",
      "  3.60501229e+00  9.33216300e+00  1.01591310e+01  1.40338520e+01\n",
      "  1.31025738e+01  9.63166358e+00  2.24711591e+01  1.30078927e+01\n",
      "  1.25452038e+00  5.98479779e+00  1.21487983e+01  1.72761604e+01\n",
      "  9.37580487e+00  1.33329860e+01  7.48766671e+00  7.91991038e+00\n",
      "  9.71620273e+00  8.42217155e+00  7.39240570e+00  1.06939350e+01\n",
      "  1.25398937e+01  1.01965051e+00  1.94971115e+01  1.06829824e+01\n",
      "  1.12375167e+01  5.66012677e+00  7.36782767e+00  1.34504404e+01\n",
      "  5.50867426e+00  7.00910307e+00  6.47997244e+00  8.16155806e+00\n",
      " -8.73079758e-01  1.58196353e+01  1.07589841e+01  8.38071672e+00\n",
      "  1.50679953e+01  1.25692636e+01  4.71971507e+00  4.70574858e+00\n",
      "  1.00644719e+01  1.25556183e+01  8.85825805e+00  1.08145059e+01\n",
      "  3.56672457e+00  4.20051752e+00  1.98714306e+01  1.29026322e+01\n",
      "  1.44059072e+01  1.15703298e+01  7.48124684e+00  1.87187444e+01\n",
      "  1.28927032e+01  1.53065682e+01  8.20563509e+00  3.37261486e+00\n",
      "  1.00366708e+01  1.32324547e+01  1.95510048e+01  1.65133162e+01\n",
      "  1.38835958e+01  5.25744917e+00  1.40596630e+01  1.49857410e+01\n",
      "  9.78052221e+00  1.73339516e+01  1.85880028e+01  6.01063329e-01\n",
      "  1.27024069e+01  6.38617985e+00  7.96873650e+00  1.25885659e+01\n",
      "  7.06777230e+00  6.45545402e+00  1.21786854e+01  1.10598074e+01\n",
      "  1.51088245e+01  4.06548020e+00  1.03801838e+01  8.89519794e+00\n",
      "  6.14866225e+00  8.48143295e+00  1.54141549e+01  1.72329437e+01\n",
      "  9.54664398e+00  5.15709601e+00  1.35001317e+01  1.82501429e+01\n",
      "  1.61944959e+01  1.12302225e+01  1.03380359e+01  5.83983786e+00\n",
      "  1.12537040e+01  7.40637683e+00  6.59637866e+00  8.80752452e+00\n",
      "  1.19232194e+01  5.89030245e+00  1.40834070e+01  8.85871600e+00\n",
      "  1.57279563e+01  1.42160164e+01  7.17325412e+00  1.30594018e+01\n",
      "  1.25711133e+01  9.74914616e+00  1.79786247e+01  8.20965446e+00\n",
      "  1.84184194e+01  1.16279524e+01  1.38390849e+01  9.10935181e+00\n",
      "  6.48116418e+00  8.88765341e+00  6.66727401e+00  8.31846926e+00\n",
      "  1.26387906e+01  6.92174505e+00  6.03009989e+00  1.85362403e+00\n",
      "  7.04951589e+00  8.37920702e+00  1.29412076e+01  1.71409920e+01\n",
      "  8.17402197e+00  6.98071477e+00 -1.63631368e+00 -1.98600156e+00\n",
      "  6.41934339e+00  6.66417624e+00  1.19701745e+01  1.32647454e+01\n",
      "  6.02238986e+00  8.91826293e+00  8.20076986e+00  9.16624797e+00\n",
      "  9.34368632e+00  4.98498864e+00  7.66962726e+00  1.17225114e+01\n",
      "  1.23136279e+01  1.05782237e+01  7.62859951e+00  1.04421042e+01\n",
      "  1.09767926e+01  6.14357530e+00  1.33053527e+01  9.70377690e+00\n",
      "  1.70161361e+00  1.79917500e+01  4.95226196e+00  2.73291065e+00\n",
      "  1.31778336e+01  4.93045495e+00  1.43103238e+01  9.49736410e+00\n",
      "  1.16806768e+01  1.24058121e+01  3.39891727e+00  6.37702407e+00\n",
      "  1.08440079e+01  1.08912881e+01  1.52270845e+01  8.53958862e+00\n",
      "  4.51018338e+00  1.50983375e+01  1.31731042e+01  1.90879235e+00\n",
      "  8.85470662e+00  4.63475049e+00  8.30002166e+00  6.86920067e+00\n",
      "  6.91451359e+00  5.76855664e+00  5.06145444e+00  4.53950572e+00\n",
      "  1.41501504e+01  1.31632209e+01  1.42360668e+01  1.91329994e+01\n",
      "  9.80019030e+00  5.25931512e+00  1.07470117e+01  6.71341794e+00\n",
      "  1.28851989e+01  9.05367496e+00  1.19343815e+01  1.56488706e+01\n",
      "  8.26754337e+00  1.87747553e+01  1.35116349e+01  6.31380391e+00\n",
      "  1.03625610e+01  4.86302090e+00  1.82287410e+01  1.45511566e+01\n",
      "  1.09199333e+01  3.22465277e+00  3.93118760e+00  1.51033626e+01\n",
      "  1.23677154e+01  1.06056065e+01  1.68448485e+01  9.68877747e+00\n",
      "  5.34410392e-01  7.28613299e+00  9.98978029e+00  9.37641929e+00\n",
      "  1.87222947e+01  1.55347472e+01  2.10681068e+01  5.96078078e+00\n",
      "  1.17736356e+01  8.67798503e+00  3.19977714e+00  9.56221617e+00\n",
      "  1.32034892e+01  1.34546267e+01  1.46581904e+01  1.56260631e+01\n",
      "  6.52074146e+00  6.16345214e+00  1.25612285e+01  6.83962069e+00\n",
      "  2.46739483e+00 -2.24244602e-02  8.90288211e+00  7.74254166e+00\n",
      "  1.06522715e+01  3.09429638e+00  1.99486204e+01  1.83922843e+01\n",
      "  1.90396831e+01  2.14908397e+01  1.27776678e+01 -9.25603987e-01\n",
      "  1.13948752e+01  1.66442841e+01  1.02881628e+01  1.85125580e+01\n",
      "  4.46359368e+00  1.16318013e+01  1.03712241e+01  1.06309641e+01\n",
      "  4.19988941e+00  1.03061474e+01  4.55650386e+00  8.17158346e+00\n",
      "  1.59060952e+00  7.70081463e+00  2.10687261e+00  1.36534718e+01\n",
      "  1.26546804e+01  1.22379527e+01  1.12848643e+01  1.14709972e+01\n",
      "  5.62310948e+00  1.26870856e+01  1.37572184e+01  9.05618983e+00\n",
      "  1.02383545e+01  1.18998966e+01  9.64958577e+00  9.19569472e+00\n",
      "  1.74346592e+01  5.06047086e+00  1.40826087e+01  7.32309072e+00\n",
      "  8.12106218e+00  1.64763149e+01 -6.59983278e-01  1.71889724e+01\n",
      "  1.97957735e+01  9.63871634e+00  1.23258704e+01  1.23115866e+01\n",
      "  6.89275038e+00  1.48174021e+01  9.43020039e+00  1.31888413e+01\n",
      "  1.73503877e+01  8.24765338e+00  5.63914118e+00  7.58128023e+00\n",
      "  1.12911001e+01  1.13419940e+01  1.17134893e+01  9.02397506e+00\n",
      "  7.74111060e+00  1.61479854e+01  5.98278912e+00  1.02641039e+01\n",
      "  6.24007553e+00  9.07005658e+00  8.57437379e+00  1.49138459e+01\n",
      "  1.19652878e+01  1.40074753e+01  4.74994165e+00  2.40879321e+00\n",
      "  1.38652677e+01  4.09060301e+00  1.47063097e+01  3.06937830e+00\n",
      "  3.68891985e+00  2.89616282e+00  1.51031428e+01  8.54068405e+00\n",
      "  1.07007219e+01  6.88083840e+00  7.51491496e+00  6.73254774e+00\n",
      "  1.02110097e+01  3.64177647e+00  1.60717451e+01  8.54792614e+00\n",
      "  1.36908845e+01  1.49467267e+01  9.98330171e+00  6.31832705e+00\n",
      "  4.30266595e+00  1.25279166e+01  9.46682267e+00  9.33274093e+00\n",
      "  1.88735931e+00  8.14929433e+00  8.73695401e+00  1.34681082e+01\n",
      "  7.50421756e+00  1.42497682e+01  1.31732929e+01  5.09666823e+00\n",
      "  9.78311384e+00  1.51689278e+01  1.21525271e+01  5.02653233e+00\n",
      "  1.36386625e+01  4.14088127e+00  2.27887610e+01  2.16840866e+01\n",
      "  1.15752628e+01  1.06479459e+01  8.27930483e+00  1.03197234e+01\n",
      "  4.42154083e+00  3.07508345e+00  1.49367279e+01  1.37330811e+01\n",
      " -2.74491575e+00  4.49330337e+00  8.48941999e+00  1.71607624e+01\n",
      "  9.79791665e+00  1.13156705e+01  1.08345324e+01  1.24922552e+01\n",
      "  1.05550407e+01  1.13888574e+01  1.32695835e+01  1.15786861e+00\n",
      "  1.04558203e+01  1.73619737e+01  2.24656247e+00  8.01500409e+00\n",
      "  7.09483635e+00  4.79263430e+00  5.81119899e+00  1.52315183e+01\n",
      "  1.29562345e+01  1.02298207e+01  9.29834123e+00  1.15394114e+01\n",
      "  6.79151391e-01  1.40784900e+01  6.01233091e+00  5.48968820e+00\n",
      "  3.95486060e+00  9.54465845e+00  3.12238495e+00  4.76021008e+00\n",
      "  1.23878401e+01  6.77173824e+00  5.35749496e+00  9.08920447e+00\n",
      "  1.00225093e+01  8.46881280e+00  7.81559625e+00  9.48388796e+00\n",
      "  1.02643730e+01  1.41983229e+01  1.21082929e+01  1.10546343e+01\n",
      "  2.67265301e+00  5.13430808e+00  2.03787257e+00  1.06713150e+01\n",
      "  1.41929774e+01  1.20124100e+01  1.44401621e+01  1.14023245e+01\n",
      "  7.07145593e+00  1.12518115e+01  4.37720278e+00  6.96901846e+00\n",
      "  1.43447319e+01  1.89648614e+01  1.62802137e+01  1.55296410e+01\n",
      "  9.39139553e+00  2.56801255e+00  1.95843701e+01  1.25497714e+01\n",
      "  7.22767902e+00  9.46298200e+00  1.20978672e+01  4.31144881e+00\n",
      "  3.81488106e+00  1.29501626e+01  1.74351594e+01  1.40832014e+01\n",
      "  8.08785090e+00  1.56126442e+01  1.59869577e+01  1.03995597e+01\n",
      "  1.82913120e+01  1.76092183e+01  6.73699720e+00  7.09066684e+00\n",
      "  2.77123430e+00  1.77670566e+01  1.37861701e+01  5.68447589e+00\n",
      "  6.04568777e+00  9.95199610e+00  1.25365468e+01  9.09207212e+00\n",
      "  6.69697477e+00  1.25746792e+01  1.23357551e-01  1.08329285e+01\n",
      "  1.23462097e+01  1.58442883e+01  1.34626646e+01  3.43934726e+00\n",
      "  1.04596092e+01  1.33662208e+01  9.77657791e+00  1.58872361e+01\n",
      "  1.18569537e+01  1.10404793e+01  9.78685928e+00  5.47903180e+00\n",
      "  1.19491312e+01  7.65934717e+00  1.15617123e+01  1.43560855e+01\n",
      "  1.03588521e+01  7.29605639e+00  1.39637020e+01  9.88414809e+00\n",
      "  1.65523239e+01  9.52358081e+00  1.46983159e+01  1.31916422e+01\n",
      "  1.29651712e+01  5.59593382e+00  2.38574025e+01  6.56963712e+00\n",
      "  1.48481936e+01  5.56811425e+00  1.21130826e+01  8.80880607e+00\n",
      "  1.45620869e+01  1.69580819e+01  1.94605548e+01  1.71369740e+01]\n"
     ]
    },
    {
     "data": {
      "text/plain": [
       "<Axes: ylabel='Density'>"
      ]
     },
     "execution_count": 8,
     "metadata": {},
     "output_type": "execute_result"
    },
    {
     "data": {
      "image/png": "[encoded data removed]",
      "text/plain": [
       "<Figure size 640x480 with 1 Axes>"
      ]
     },
     "metadata": {},
     "output_type": "display_data"
    }
   ],
   "source": [
    "X = np.random.normal(10,5,size=1000) # A random sample of normally distributed numbers\n",
    "print(X)\n",
    "sns.kdeplot(X)"
   ]
  },
  {
   "cell_type": "markdown",
   "id": "79642768",
   "metadata": {
    "slideshow": {
     "slide_type": "slide"
    }
   },
   "source": [
    "# Asymptotic Theory"
   ]
  },
  {
   "cell_type": "markdown",
   "id": "48a2fd85-0991-4530-942f-a13954638e15",
   "metadata": {
    "slideshow": {
     "slide_type": "subslide"
    }
   },
   "source": [
    "## The Law of Large Numbers\n",
    "- The next five slides are about expanding your understanding of the fundamental nature of reality\n",
    "- If you are the kind of person who says they \"do not like math\" or \"are not good at math\", that's OK, this isn't on a test\n",
    "- This is what real, useful mathematics looks like: A sequence of logical inferences which come together in a powerful insight about quantitative reality\n",
    "- Even if you don't understand every line and manipulation, knowing roughly how humans create quantitative ideas and statistical evidence means your understanding of what is possible expands, and that is valuable on its own"
   ]
  },
  {
   "cell_type": "markdown",
   "id": "b4f19bfc-084b-419a-a27f-02a861d03dd5",
   "metadata": {
    "slideshow": {
     "slide_type": "subslide"
    }
   },
   "source": [
    "## Markov's Inequality\n",
    "- Suppose that $R(x_i) \\ge 0$, so all the random variable only takes non-negative values\n",
    "- Pick a value $a$ that is between $x_1$ and $x_N$. What can we say about the relationship between $p$, $\\mathbb{E}[R]$, and $a$?\n",
    "\\begin{alignat*}{2}\n",
    "\\mathbb{E}[R] &=& \\sum_{R(x_i) < a} p(x_i) R(x_i) + \\sum_{R(x_i) \\ge a} p(x_i) R(x_i) \\\\\n",
    "& \\ge & \\sum_{R(x_i) < a} p(x_i) 0 + \\sum_{R(x_i) \\ge a} p(x_i) R(x_i) \\\\\n",
    "& \\ge & \\sum_{R(x_i) \\ge a} p(x_i) a \\\\\n",
    "& =& p[R \\ge a] a\n",
    "\\end{alignat*}\n",
    "- This implies that if $R(x) \\ge 0$ for all $x$ in $S$, then for any $a$, \n",
    "$$\n",
    "p[R \\ge a] \\le \\dfrac{\\mathbb{E}[R]}{a}\n",
    "$$\n",
    "- This is called **Markov's Inequality**: The probability that a non-negative random variable exceeds a threshold is bounded by its expectation divided by the threshold"
   ]
  },
  {
   "cell_type": "markdown",
   "id": "fc4c53e3-db53-4d47-b5ec-7f719f50c744",
   "metadata": {
    "slideshow": {
     "slide_type": "subslide"
    }
   },
   "source": [
    "## Chebyshev's Inequality\n",
    "- OK, can we relate $\\mathbb{E}[R]$, $p$, and $\\sigma$ in a useful way?\n",
    "- If we use Markov's inequality with $R(x) = (x-\\mu)^2$, we get another useful inequality:\n",
    "\\begin{alignat*}{2}\n",
    "p[ |x-\\mu| \\ge d ] &=& p[ \\sqrt{(x-\\mu)^2} \\ge d ] \\\\\n",
    "&=& p[ (x-\\mu)^2 \\ge d^2 ] \\\\\n",
    "&\\le& \\dfrac{\\mathbb{E}[ (X-\\mu)^2 ]}{d^2 }\\\\\n",
    "p[ |x-\\mu| \\ge d  ] &\\le & \\dfrac{\\sigma^2}{d^2 }\\\\\n",
    "\\end{alignat*}\n",
    "- This provides a bound on how far a random variable $R(x)=x$ can be from its average, based on the variance $\\sigma^2$ and a distance $d$:\n",
    "$$\n",
    "p\\left[ |x-\\mu| \\ge d \\right] \\le \\dfrac{\\sigma^2}{d^2}\n",
    "$$\n",
    "- This is called **Chebyshev's Inequality**: The distance $d$ a random variable $X$ is from its mean $\\mu$ is bounded by its variance $\\sigma^2$ divided by the distance squared $d^2$."
   ]
  },
  {
   "cell_type": "markdown",
   "id": "f3283826",
   "metadata": {
    "slideshow": {
     "slide_type": "subslide"
    }
   },
   "source": [
    "## Example: Normal\n",
    "- These inequalities are used for theory, not for computations: We have computers for that in 2025\n",
    "- But we can work out a specific example. Let's suppose $X$ is normally distributed, with mean $\\mu$ and standard deviation $\\sigma$\n",
    "- The event $|x-\\mu| \\ge d$ is equivalent to two events: $ x - \\mu \\ge d$ and $ x - \\mu \\le -d $\n",
    "- So we're looking for the probability that $x \\ge \\mu + d$ or $x \\le \\mu - d$\n",
    "- We can use the `scipy.stats.norm` class to do this "
   ]
  },
  {
   "cell_type": "code",
   "execution_count": 11,
   "id": "1242bd70",
   "metadata": {
    "slideshow": {
     "slide_type": "subslide"
    }
   },
   "outputs": [
    {
     "name": "stdout",
     "output_type": "stream",
     "text": [
      "sigma^2/d : 1.0\n",
      "0.31731050786291415\n"
     ]
    }
   ],
   "source": [
    "from scipy.stats import norm\n",
    "\n",
    "mu = 100\n",
    "sigma = 1\n",
    "d = 1\n",
    "\n",
    "print('sigma^2/d :', sigma**2/d)\n",
    "\n",
    "# So we need two probabilities:\n",
    "\n",
    "P1 = norm.cdf(mu - d, mu, sigma) # x < mu - d\n",
    "P2 = 1 - norm.cdf(mu + d, mu, sigma) # x > mu + d\n",
    "\n",
    "print(P1 + P2)"
   ]
  },
  {
   "cell_type": "markdown",
   "id": "614c3b5c",
   "metadata": {
    "slideshow": {
     "slide_type": "subslide"
    }
   },
   "source": [
    "- No matter what values you put in, the first line will always be bigger than the second"
   ]
  },
  {
   "cell_type": "code",
   "execution_count": null,
   "id": "12e1150d",
   "metadata": {
    "slideshow": {
     "slide_type": "subslide"
    }
   },
   "outputs": [
    {
     "data": {
      "text/plain": [
       "<Axes: >"
      ]
     },
     "execution_count": 18,
     "metadata": {},
     "output_type": "execute_result"
    },
    {
     "data": {
      "image/png": "[encoded data removed]",
      "text/plain": [
       "<Figure size 640x480 with 1 Axes>"
      ]
     },
     "metadata": {},
     "output_type": "display_data"
    }
   ],
   "source": [
    "mu = 100\n",
    "sigma = .5\n",
    "\n",
    "d_grid = np.linspace(.1,10,200)\n",
    "curve_1 = []\n",
    "curve_2 = []\n",
    "for k in range(len(d_grid)):\n",
    "    d = d_grid[k]\n",
    "    P1 = norm.cdf(mu - d, mu, sigma) # x < mu - d\n",
    "    P2 = 1 - norm.cdf(mu + d, mu, sigma) # x > mu + d   \n",
    "    curve_1.append(sigma**2/d)\n",
    "    curve_2.append(P1+P2)\n",
    "\n",
    "sns.lineplot(y=curve_1,x=d_grid,label='$s^2/d$')\n",
    "sns.lineplot(y=curve_2,x=d_grid,label='$pr[|X-m| > d]$')"
   ]
  },
  {
   "cell_type": "markdown",
   "id": "dbeac622-ff25-4f70-bb6c-2fb1821a4bf0",
   "metadata": {
    "slideshow": {
     "slide_type": "subslide"
    }
   },
   "source": [
    "## Independent and Identically Distributed Sequences (iid)\n",
    "- A fundamental concept in probability and statistics is the abstract idea of running an \"experiment\" over and over, and computing statistics for the results\n",
    "- Let $x_1$ be the result of the first experiment, $x_2$ the result of the second, and so on\n",
    "- Assume that the draws $x_1, x_2, ...$ \n",
    "  - are **identically distributed**: They are all drawn from the same distribution function and all have the same mean $\\mu$ and variance $\\sigma^2$\n",
    "  - are **independent**: The outcome of draw $x_n$ doesn't affect the outcome of any draw $x_m$, $m \\neq n$\n",
    "- The **sample average** of our experimental sequence is\n",
    "$$\n",
    "\\bar{X}_n = \\dfrac{1}{n} \\sum_{i=1}^n x_i\n",
    "$$\n",
    "and the **sample variance** of our experimental sequence is\n",
    "$$\n",
    "\\bar{s}_n^2 = \\dfrac{1}{n} \\sum_{i=1}^n (x_i - \\bar{X}_n)^2\n",
    "$$"
   ]
  },
  {
   "cell_type": "markdown",
   "id": "455ec9e8-0dbd-4965-93a4-e1d6eefe8fae",
   "metadata": {
    "slideshow": {
     "slide_type": "subslide"
    }
   },
   "source": [
    "## Independent and Identically Distributed Sequences (iid)\n",
    "- The sample average and sample variance are now, themselves, random variables, with their own outcomes, events, probabilities, and so on\n",
    "- What is the expected value of $\\bar{X}_n$?\n",
    "$$\n",
    "\\mathbb{E}[\\bar{X}_n] = \\mathbb{E}\\left[ \\dfrac{1}{n} X_1 + X_2 + ... + X_n \\right] = \\dfrac{\\mathbb{E}[X_1] + ... + \\mathbb{E}[X_n]}{n} = \n",
    "\\dfrac{\\mu + ... + \\mu}{n} = \\dfrac{n\\mu}{n} = \\mu\n",
    "$$\n",
    "- Likewise (but slightly different steps)\n",
    "$$\n",
    "\\mathbb{V}[\\bar{X}_n] = \\mathbb{V}\\left[\\frac{1}{n}(X_1 + X_2 + ... + X_n)\\right] = \\frac{1}{n^2} \\mathbb{V}[X_1 + X_2 + ... + X_n] =\\frac{1}{n^2} \\left( \\mathbb{V}[X_1] + \\mathbb{V}[X_2] + ... + \\mathbb{V}[X_n] \\right) = \\frac{n}{n^2} \\sigma^2 = \\frac{\\sigma^2}{n}\n",
    "$$\n",
    "- To emphasize that the sample space of $S_n$ depends on the sequence $n$, we'll write the probability function as $p_n$"
   ]
  },
  {
   "cell_type": "markdown",
   "id": "af25833f-7f0b-4db4-9fcb-30484e937c2c",
   "metadata": {
    "slideshow": {
     "slide_type": "subslide"
    }
   },
   "source": [
    "## Law of Large Numbers\n",
    "- Take the random variable as the sample mean $X_n$ of a sequence of iid random variables, with mean $\\bar{X}_n = \\dfrac{1}{n} \\sum_{t=1}^n x_i$ and variance $\\mathbb{V}[\\bar{X}_n] = \\sigma^2/n$\n",
    "- By Chebyshev's inequality,\n",
    "$$\n",
    "p_n\\left[ |\\bar{X}_n - \\mu|  \\ge d \\right] \\le \\dfrac{\\mathbb{V}[\\bar{X}_n]}{d^2} = \\dfrac{\\sigma^2}{n d^2}.\n",
    "$$\n",
    "- **As $n$ gets large on the far right, $\\frac{\\sigma^2}{nd^2}$ goes to zero, for any $d$.**\n",
    "- This is called the **Weak Law of Large Numbers**: Sample averages *converge in probability* to the true average $\\mu$ as long as the variance $\\sigma^2$ is finite.\n",
    "- The importance of this idea cannot be understated: This is one of the most important ideas that humanity has discovered"
   ]
  },
  {
   "cell_type": "markdown",
   "id": "611c6ae9",
   "metadata": {
    "slideshow": {
     "slide_type": "slide"
    }
   },
   "source": [
    "# Examples"
   ]
  },
  {
   "cell_type": "markdown",
   "id": "ff10db5b-9f9e-4b00-9e43-18221564559c",
   "metadata": {
    "slideshow": {
     "slide_type": "subslide"
    }
   },
   "source": [
    "## Example: Estimating Probabilities\n",
    "- R is going to draw a number $h$ between 0 and 1, but it isn't going to tell us what it is. R will, however, flip a coin that comes up heads[1] with probability $h$ or tails[0] with probability $1-h$\n",
    "- Each flip $x_i$ is either equal to 0 for tails or 1 for heads, so the average of the flips is\n",
    "$$\n",
    "\\bar{X}_n = \\dfrac{x_1+x_2 + ... + x_n}{n} = \\{\\text{The sample proportion of heads}\\} = h_n\n",
    "$$\n",
    "- As the number of flips gets large, by the LLN, the sample average $h_n$ will converge in probability to the true value $h$\n",
    "- As a consequence of the LLN, *sample proportions converge to population probabilities as the sample gets large*"
   ]
  },
  {
   "cell_type": "code",
   "execution_count": null,
   "id": "6a27e7e0-4192-4ca3-bda2-a8ebc950dd22",
   "metadata": {
    "slideshow": {
     "slide_type": "subslide"
    }
   },
   "outputs": [
    {
     "name": "stdout",
     "output_type": "stream",
     "text": [
      "0.3\n",
      "0.36252279833801393\n"
     ]
    }
   ],
   "source": [
    "# Data generation:\n",
    "h = np.random.uniform() # Unfair coin we don't observe\n",
    "n = 100 # Sample Size\n",
    "flips =  np.random.uniform(size=n) < h  # Flips we observe\n",
    "\n",
    "# Our analysis of the data, 'flips':\n",
    "h_n = flips.mean() # Our estimate of h\n",
    "print(h_n)\n",
    "\n",
    "# What's the true value?\n",
    "print(h) # True value\n"
   ]
  },
  {
   "cell_type": "markdown",
   "id": "43087da1-febb-4341-bf85-87c02247265d",
   "metadata": {
    "slideshow": {
     "slide_type": "subslide"
    }
   },
   "source": [
    "## Example: Estimating Averages\n",
    "- Any given outcome of a gamble is not informative of the value of the gamble in expectation\n",
    "- But if we average many iid plays of the gamble and average the payoffs, the LLN tells us that the sample average will converge to the true value of the gamble\n",
    "- The expected value calculations we were doing earlier by hand can be done by simulation on a computer\n",
    "- This is all mathematical finance/engineering is: More complex versions of this kind of calculation"
   ]
  },
  {
   "cell_type": "code",
   "execution_count": null,
   "id": "fc4c357f-b89f-4546-97ad-2c62238bcc91",
   "metadata": {
    "slideshow": {
     "slide_type": "subslide"
    }
   },
   "outputs": [
    {
     "data": {
      "text/plain": [
       "0.23"
      ]
     },
     "execution_count": 136,
     "metadata": {},
     "output_type": "execute_result"
    }
   ],
   "source": [
    "# Set up the gamble:\n",
    "winning_values = np.array([7,11]) # Which values between 2 and 12 count as a 'win'?\n",
    "winning_amount = 1 # Amount received if you win\n",
    "losing_amount = 0 # Amount paid if you lose\n",
    "die = np.arange(6)+1\n",
    "n = 1000 # Number of simulations of the gamble\n",
    "\n",
    "# Simulate the gamble:\n",
    "rolls = np.random.choice(die, size=[n,2])  # Roll 2 dice n times\n",
    "sums = rolls.sum(axis=1)\n",
    "\n",
    "# Determine winning and losing rolls:\n",
    "winning_rolls = np.in1d(sums,winning_values)\n",
    "losing_rolls = 1-winning_rolls\n",
    "\n",
    "# Compute payoffs:\n",
    "payoff = winning_rolls*winning_amount + losing_rolls*losing_amount\n",
    "\n",
    "# Compute expected payoff:\n",
    "payoff.mean()"
   ]
  },
  {
   "cell_type": "markdown",
   "id": "ce864e93-31ed-47c4-af63-706be9fca36d",
   "metadata": {
    "slideshow": {
     "slide_type": "subslide"
    }
   },
   "source": [
    "## Example: Regression\n",
    "- How do we know regression means anything?\n",
    "- The optimal coefficients in a simple linear regression $\\hat{y}_i = a + b x_i$ can be written\n",
    "\\begin{alignat*}{2}\n",
    "a^*_N &=& \\dfrac{1}{N} \\sum_{i=1}^N y_i - \\dfrac{ \\frac{1}{N} \\sum_{i=1}^N (y_i - \\bar{y}_n)(x_i-\\bar{x}_n)}{\\frac{1}{N} \\sum_{i=1}^N (x_i- \\bar{x}_n)^2}\\dfrac{1}{N} \\sum_{i=1}^N x_i\\\\\n",
    "b^*_N &=& \\dfrac{ \\frac{1}{N} \\sum_{i=1}^N (y_i - \\bar{y}_n)(x_i-\\bar{x}_n)}{\\frac{1}{N} \\sum_{i=1}^N (x_i- \\bar{x}_n)^2}\n",
    "\\end{alignat*}\n",
    "- These are all just sample averages of various kinds. There are rules about how the LLN can be combined with these kinds of functions to know that $a^*_N$ and $b^*_N$ converge since $\\bar{y}_N$ and $\\bar{x}_N$ converge (Slutsky's Theorem, Portmanteau Theorem, Continuous Mapping Theorem).\n",
    "- As the sample size gets large, there are theoretical limit values they converge to: We should expect order to arise out of the randomness, even if we have no idea what they are."
   ]
  },
  {
   "cell_type": "code",
   "execution_count": null,
   "id": "e93f0680-862d-497a-aa4d-c09e94397e02",
   "metadata": {
    "slideshow": {
     "slide_type": "subslide"
    }
   },
   "outputs": [
    {
     "name": "stdout",
     "output_type": "stream",
     "text": [
      "1.3389562512450843\n",
      "[2.99058257 5.0926713 ]\n"
     ]
    }
   ],
   "source": [
    "import pandas as pd\n",
    "\n",
    "n = 250 # Number of observations\n",
    "\n",
    "## Data creation:\n",
    "b0 = 1 # True intercept coefficient\n",
    "b1 = 3 # True slope coefficient\n",
    "b2 = 5 # True slope coefficient\n",
    "x1 = np.random.normal(5,2,n) # Covariate 1\n",
    "x2 = np.random.normal(-3,1,n) # Covariate 2\n",
    "noise = np.random.normal(0,1,n) # Error term\n",
    "y = b0 + b1*x1 + b2*x2 + noise # Compute Outcome/Target Variable\n",
    "df = pd.DataFrame({'y':y,'x1':x1,'x2':x2}) # Create data frame\n",
    "\n",
    "## Data analysis:\n",
    "from sklearn.linear_model import LinearRegression # Import linear regression model\n",
    "X = df.loc[:,['x1','x2']] # Construct data matrix\n",
    "y = df['y'] # Response variable\n",
    "reg = LinearRegression().fit(X, y) # Fit the linear model\n",
    "print(reg.intercept_) # Intercept value\n",
    "print(reg.coef_) # Regression coefficients\n"
   ]
  },
  {
   "cell_type": "markdown",
   "id": "5c9b2e87",
   "metadata": {
    "slideshow": {
     "slide_type": "subslide"
    }
   },
   "source": [
    "## Example: European Call Option\n",
    "- A **derivative** is a financial contract that is bought and sold, specifying the right to buy an asset at a fixed price on a specified future date\n",
    "- The stock price evolves as $p_{t+1} = p_t + \\sigma \\varepsilon_t$, where the shocks $\\varepsilon_t$ are normally distributed with mean $\\mathbb{E}[\\varepsilon_t] =0$ and standard deviation $\\sigma = 5$\n",
    "- Suppose the stock price is currently valued at $p_0 = 100$. At the **expiration date** in one month, you can buy the stock at the **strike price** of $K$. This is called a **European Call Option**.\n",
    "- Notice you will only purchase the asset in a month if the the price in a month exceeds the strike price.\n",
    "- **What is the probability the time-$t$ price exceeds the strike price $K=95$?** \n",
    "- **What is the fair price of the European Call Option today?**\n",
    "- This is a problem in quantitative finance."
   ]
  },
  {
   "cell_type": "code",
   "execution_count": 18,
   "id": "3764207d",
   "metadata": {
    "slideshow": {
     "slide_type": "subslide"
    }
   },
   "outputs": [
    {
     "data": {
      "text/plain": [
       "<matplotlib.lines.Line2D at 0x7efc9e9309e0>"
      ]
     },
     "execution_count": 18,
     "metadata": {},
     "output_type": "execute_result"
    },
    {
     "data": {
      "image/png": "[encoded data removed]",
      "text/plain": [
       "<Figure size 640x480 with 1 Axes>"
      ]
     },
     "metadata": {},
     "output_type": "display_data"
    }
   ],
   "source": [
    "import numpy as np\n",
    "import seaborn as sns\n",
    "\n",
    "R = 10\n",
    "sigma = 1\n",
    "p_old = 100\n",
    "T = 30\n",
    "\n",
    "data = []\n",
    "for r in range(R):\n",
    "    shocks = np.random.normal(loc=0,scale=sigma,size=T)\n",
    "    p_old = 100\n",
    "    price_seq = [p_old]\n",
    "    for t in range(T):\n",
    "        p_new = p_old +  shocks[t]\n",
    "        price_seq.append(p_new)\n",
    "        p_old = p_new\n",
    "    data.append(price_seq)\n",
    "\n",
    "sns.lineplot(data)\n",
    "plt.axhline(y=95) "
   ]
  },
  {
   "cell_type": "code",
   "execution_count": null,
   "id": "d7a93f17",
   "metadata": {
    "slideshow": {
     "slide_type": "subslide"
    }
   },
   "outputs": [
    {
     "data": {
      "image/png": "[encoded data removed]",
      "text/plain": [
       "<Figure size 640x480 with 1 Axes>"
      ]
     },
     "metadata": {},
     "output_type": "display_data"
    },
    {
     "name": "stdout",
     "output_type": "stream",
     "text": [
      "Average payout of the asset:  5.312345577383096\n"
     ]
    },
    {
     "data": {
      "image/png": "[encoded data removed]",
      "text/plain": [
       "<Figure size 640x480 with 1 Axes>"
      ]
     },
     "metadata": {},
     "output_type": "display_data"
    }
   ],
   "source": [
    "import numpy as np\n",
    "import seaborn as sns\n",
    "import matplotlib.pyplot as plt \n",
    "\n",
    "R = 500\n",
    "sigma = 1\n",
    "p_old = 100\n",
    "T = 30\n",
    "\n",
    "value = []\n",
    "exercise = []\n",
    "for r in range(R):\n",
    "    shocks = np.random.normal(loc=0,scale=sigma,size=T)\n",
    "    p_old = 100\n",
    "    price_seq = [p_old]\n",
    "    for t in range(T):\n",
    "        p_new = p_old +  shocks[t]\n",
    "        price_seq.append(p_new)\n",
    "        p_old = p_new\n",
    "    if p_old > 95 : # Buy option\n",
    "        gain = p_old - 95\n",
    "        exr = 1\n",
    "    else:\n",
    "        gain = 0\n",
    "        exr = 0\n",
    "    value.append(gain)\n",
    "    exercise.append(exr)"
   ]
  },
  {
   "cell_type": "code",
   "execution_count": null,
   "id": "0c6e7a4e",
   "metadata": {
    "slideshow": {
     "slide_type": "subslide"
    }
   },
   "outputs": [],
   "source": [
    "sns.histplot(value,bins=100).set(title='Realized value')\n",
    "plt.show()\n",
    "sns.histplot(exercise,stat='proportion').set(title='Exercise Probability')\n",
    "print( 'Average payout of the asset: ', np.mean(value) )\n"
   ]
  },
  {
   "cell_type": "markdown",
   "id": "a6c2dc7a",
   "metadata": {
    "slideshow": {
     "slide_type": "slide"
    }
   },
   "source": [
    "# Conclusion"
   ]
  },
  {
   "cell_type": "markdown",
   "id": "5eb572b1",
   "metadata": {
    "slideshow": {
     "slide_type": "subslide"
    }
   },
   "source": [
    "## WLLN versus CLT [Stats]\n",
    "- The WLLN says that sample means converges in probability to the true mean for iid sequences, if the variance is finite\n",
    "- The Central Limit Theorem says something else: That the distribution function of $\\sqrt{n}( \\bar{X}_n - \\mu)$ converges to a normal with mean 0 and variance $\\sigma^2$ as the sample size gets large.\n",
    "- These aren't the same: The WLLN says that sample means converge to the truth, while the CLT says the distribution of $(\\bar{X}_n-\\mu)/\\sigma$ converges to a standard normal distribution as the sample size gets large."
   ]
  },
  {
   "cell_type": "markdown",
   "id": "df809568-f0b5-41a6-8826-b37b6b95c679",
   "metadata": {
    "slideshow": {
     "slide_type": "subslide"
    }
   },
   "source": [
    "## Next Class\n",
    "- We have just admitted that our estimates (the $h_n$, the regression coefficients, etc.) are noisy: They'll be close to the truth if $N$ is large, by the Law of Large Numbers... but we know they're still not *exactly* correct\n",
    "- Can we quantify this uncertainty about our estimates? How?\n",
    "- This is going to motivate a framework called *bootstrapping*"
   ]
  }
 ],
 "metadata": {
  "kernelspec": {
   "display_name": "base",
   "language": "python",
   "name": "python3"
  },
  "language_info": {
   "codemirror_mode": {
    "name": "ipython",
    "version": 3
   },
   "file_extension": ".py",
   "mimetype": "text/x-python",
   "name": "python",
   "nbconvert_exporter": "python",
   "pygments_lexer": "ipython3",
   "version": "3.12.2"
  }
 },
 "nbformat": 4,
 "nbformat_minor": 5
}
